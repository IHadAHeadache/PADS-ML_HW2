import pandas as pd
import numpy as np
import matplotlib.pyplot as plt
import seaborn as sns
import time
picture = [] 
date = []

pd_data = pd.read_csv("Reviews.csv")
pd_data = pd_data[:10000]
top10 = pd_data['UserId'].value_counts()
top10 = top10[:10]
reviewers = pd_data.groupby('UserId').agg({'Score':'sum'})
#print(reviewers)
for i in range(10):
    print(top10.index[i], end ="    ")
    #print(top10.iloc[i])
    name = (pd_data.loc[pd_data['UserId'] == top10.index[i]]).iloc[1]['ProfileName']
    print(name, end ="    ")
    print(top10.iloc[i], end ="    ")
    print(reviewers.loc[top10.index[i]].loc['Score'] / top10.iloc[i])
    #print(reviewers.loc[reviewers['UserId'] == top10.index[i]])
picture_data = pd_data.loc[pd_data['UserId'] == top10.index[0]]
del picture_data['Id']
del picture_data['ProfileName']
del picture_data['ProductId']
del picture_data['Time']
del picture_data['Summary']
del picture_data['Text']
del picture_data['UserId']
del picture_data['HelpfulnessNumerator']
del picture_data['HelpfulnessDenominator']
for i in range(len(picture_data.index)):
    picture.append(picture_data.iloc[i]['Score'])
plt.hist(picture)
plt.show()
for i in range(len(pd_data.index)):
    date.append(1970+pd_data.iloc[i]['Time']/60/60/24/365.25)
plt.xlabel("Review year")
plt.ylabel("Review count")
plt.title("Reviews count by year")
plt.hist(date)
plt.show()  
heat = np.array(
    [[pd_data['Id'].corr(pd_data['Id']), pd_data['Id'].corr(pd_data['HelpfulnessNumerator']), pd_data['Id'].corr(pd_data['HelpfulnessDenominator']), pd_data['Id'].corr(pd_data['Score']), pd_data['Id'].corr(pd_data['Time']), ],
    [pd_data['HelpfulnessNumerator'].corr(pd_data['Id']), pd_data['HelpfulnessNumerator'].corr(pd_data['HelpfulnessNumerator']), pd_data['HelpfulnessNumerator'].corr(pd_data['HelpfulnessDenominator']), pd_data['HelpfulnessNumerator'].corr(pd_data['Score']), pd_data['HelpfulnessNumerator'].corr(pd_data['Time']) ],
    [pd_data['HelpfulnessDenominator'].corr(pd_data['Id']), pd_data['HelpfulnessDenominator'].corr(pd_data['HelpfulnessNumerator']), pd_data['HelpfulnessDenominator'].corr(pd_data['HelpfulnessDenominator']), pd_data['HelpfulnessDenominator'].corr(pd_data['Score']), pd_data['HelpfulnessDenominator'].corr(pd_data['Time']) ],
    [pd_data['Score'].corr(pd_data['Id']), pd_data['Score'].corr(pd_data['HelpfulnessNumerator']), pd_data['Score'].corr(pd_data['HelpfulnessDenominator']), pd_data['Score'].corr(pd_data['Score']), pd_data['Score'].corr(pd_data['Time']) ],
    [pd_data['Time'].corr(pd_data['Id']), pd_data['Time'].corr(pd_data['HelpfulnessNumerator']), pd_data['Time'].corr(pd_data['HelpfulnessDenominator']), pd_data['Time'].corr(pd_data['Score']), pd_data['Time'].corr(pd_data['Time']) ]]
)
sns.set()
sns.heatmap(heat, annot=True)
